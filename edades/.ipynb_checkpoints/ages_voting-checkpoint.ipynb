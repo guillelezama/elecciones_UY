{
 "cells": [
  {
   "cell_type": "markdown",
   "id": "d30b7e43",
   "metadata": {},
   "source": [
    "## Introduction\n",
    "\n",
    "In this notebook, I present three visual comparisons of the support Yamandú Orsi received from different age groups in Uruguay. Specifically, I focus on how new voters—defined here as individuals who did not vote in the previous elections—cast their ballots compared to various older cohorts. The analysis compares Orsi’s vote share among new voters versus :\n",
    "\n",
    "- People older than 43 years old (in Canelones and Montevideo),\n",
    "- People older than 58 years old (in all departments except Montevideo),\n",
    "- The oldest voters within each serie (precinct code).\n",
    "\n",
    "By creating these three graphs, I illustrate how Orsi’s performance differed across age segments. As the results will show, regardless of which metric we use for defining older voters, and in almost every city examined, younger voters consistently gave Orsi a higher percentage of the vote than their older counterparts. This finding underscores the generational aspect of his support base and provides insight into electoral dynamics across Uruguay’s departments."
   ]
  },
  {
   "cell_type": "code",
   "execution_count": 1,
   "id": "345a2984",
   "metadata": {},
   "outputs": [],
   "source": [
    "import pandas as pd\n",
    "import matplotlib.pyplot as plt\n",
    "import os"
   ]
  },
  {
   "cell_type": "markdown",
   "id": "0e551b36",
   "metadata": {},
   "source": [
    "### Pre-processing steps"
   ]
  },
  {
   "cell_type": "code",
   "execution_count": 2,
   "id": "41130d56",
   "metadata": {},
   "outputs": [],
   "source": [
    "df_19=pd.read_csv('data/series2019.csv')"
   ]
  },
  {
   "cell_type": "code",
   "execution_count": 3,
   "id": "9ffae4bb",
   "metadata": {},
   "outputs": [],
   "source": [
    "# Set the folder path where the .xlsx files are located\n",
    "folder_path = \"data/2019\"\n",
    "\n",
    "# Initialize an empty DataFrame to append all the data\n",
    "df4 = pd.DataFrame()\n",
    "\n",
    "# Loop over all .xlsx files in the folder\n",
    "for file in os.listdir(folder_path):\n",
    "    if file.endswith(\".xlsx\") or file.endswith(\".xls\"):\n",
    "        file_path = os.path.join(folder_path, file)\n",
    "        # Read the Excel file into a DataFrame\n",
    "        df = pd.read_excel(file_path)\n",
    "        # Append the data to the combined DataFrame\n",
    "        df4 = pd.concat([df4, df], ignore_index=True)\n",
    "df_19=df4[['Serie','Desde', 'Hasta', 'Circuito']]\n",
    "df_19_max=df_19.groupby('Serie').max()[['Circuito', 'Hasta']].reset_index()\n",
    "df_19_max=df_19_max.rename(columns={'Hasta':'max'})"
   ]
  },
  {
   "cell_type": "code",
   "execution_count": 4,
   "id": "95ddf2d4",
   "metadata": {},
   "outputs": [
    {
     "ename": "FileNotFoundError",
     "evalue": "[Errno 2] No such file or directory: 'series2024.csv'",
     "output_type": "error",
     "traceback": [
      "\u001b[1;31m---------------------------------------------------------------------------\u001b[0m",
      "\u001b[1;31mFileNotFoundError\u001b[0m                         Traceback (most recent call last)",
      "Cell \u001b[1;32mIn[4], line 1\u001b[0m\n\u001b[1;32m----> 1\u001b[0m df_24\u001b[38;5;241m=\u001b[39mpd\u001b[38;5;241m.\u001b[39mread_csv(\u001b[38;5;124m'\u001b[39m\u001b[38;5;124mseries2024.csv\u001b[39m\u001b[38;5;124m'\u001b[39m)\n",
      "File \u001b[1;32m~\\anaconda3\\Lib\\site-packages\\pandas\\util\\_decorators.py:211\u001b[0m, in \u001b[0;36mdeprecate_kwarg.<locals>._deprecate_kwarg.<locals>.wrapper\u001b[1;34m(*args, **kwargs)\u001b[0m\n\u001b[0;32m    209\u001b[0m     \u001b[38;5;28;01melse\u001b[39;00m:\n\u001b[0;32m    210\u001b[0m         kwargs[new_arg_name] \u001b[38;5;241m=\u001b[39m new_arg_value\n\u001b[1;32m--> 211\u001b[0m \u001b[38;5;28;01mreturn\u001b[39;00m func(\u001b[38;5;241m*\u001b[39margs, \u001b[38;5;241m*\u001b[39m\u001b[38;5;241m*\u001b[39mkwargs)\n",
      "File \u001b[1;32m~\\anaconda3\\Lib\\site-packages\\pandas\\util\\_decorators.py:331\u001b[0m, in \u001b[0;36mdeprecate_nonkeyword_arguments.<locals>.decorate.<locals>.wrapper\u001b[1;34m(*args, **kwargs)\u001b[0m\n\u001b[0;32m    325\u001b[0m \u001b[38;5;28;01mif\u001b[39;00m \u001b[38;5;28mlen\u001b[39m(args) \u001b[38;5;241m>\u001b[39m num_allow_args:\n\u001b[0;32m    326\u001b[0m     warnings\u001b[38;5;241m.\u001b[39mwarn(\n\u001b[0;32m    327\u001b[0m         msg\u001b[38;5;241m.\u001b[39mformat(arguments\u001b[38;5;241m=\u001b[39m_format_argument_list(allow_args)),\n\u001b[0;32m    328\u001b[0m         \u001b[38;5;167;01mFutureWarning\u001b[39;00m,\n\u001b[0;32m    329\u001b[0m         stacklevel\u001b[38;5;241m=\u001b[39mfind_stack_level(),\n\u001b[0;32m    330\u001b[0m     )\n\u001b[1;32m--> 331\u001b[0m \u001b[38;5;28;01mreturn\u001b[39;00m func(\u001b[38;5;241m*\u001b[39margs, \u001b[38;5;241m*\u001b[39m\u001b[38;5;241m*\u001b[39mkwargs)\n",
      "File \u001b[1;32m~\\anaconda3\\Lib\\site-packages\\pandas\\io\\parsers\\readers.py:950\u001b[0m, in \u001b[0;36mread_csv\u001b[1;34m(filepath_or_buffer, sep, delimiter, header, names, index_col, usecols, squeeze, prefix, mangle_dupe_cols, dtype, engine, converters, true_values, false_values, skipinitialspace, skiprows, skipfooter, nrows, na_values, keep_default_na, na_filter, verbose, skip_blank_lines, parse_dates, infer_datetime_format, keep_date_col, date_parser, dayfirst, cache_dates, iterator, chunksize, compression, thousands, decimal, lineterminator, quotechar, quoting, doublequote, escapechar, comment, encoding, encoding_errors, dialect, error_bad_lines, warn_bad_lines, on_bad_lines, delim_whitespace, low_memory, memory_map, float_precision, storage_options)\u001b[0m\n\u001b[0;32m    935\u001b[0m kwds_defaults \u001b[38;5;241m=\u001b[39m _refine_defaults_read(\n\u001b[0;32m    936\u001b[0m     dialect,\n\u001b[0;32m    937\u001b[0m     delimiter,\n\u001b[1;32m   (...)\u001b[0m\n\u001b[0;32m    946\u001b[0m     defaults\u001b[38;5;241m=\u001b[39m{\u001b[38;5;124m\"\u001b[39m\u001b[38;5;124mdelimiter\u001b[39m\u001b[38;5;124m\"\u001b[39m: \u001b[38;5;124m\"\u001b[39m\u001b[38;5;124m,\u001b[39m\u001b[38;5;124m\"\u001b[39m},\n\u001b[0;32m    947\u001b[0m )\n\u001b[0;32m    948\u001b[0m kwds\u001b[38;5;241m.\u001b[39mupdate(kwds_defaults)\n\u001b[1;32m--> 950\u001b[0m \u001b[38;5;28;01mreturn\u001b[39;00m _read(filepath_or_buffer, kwds)\n",
      "File \u001b[1;32m~\\anaconda3\\Lib\\site-packages\\pandas\\io\\parsers\\readers.py:605\u001b[0m, in \u001b[0;36m_read\u001b[1;34m(filepath_or_buffer, kwds)\u001b[0m\n\u001b[0;32m    602\u001b[0m _validate_names(kwds\u001b[38;5;241m.\u001b[39mget(\u001b[38;5;124m\"\u001b[39m\u001b[38;5;124mnames\u001b[39m\u001b[38;5;124m\"\u001b[39m, \u001b[38;5;28;01mNone\u001b[39;00m))\n\u001b[0;32m    604\u001b[0m \u001b[38;5;66;03m# Create the parser.\u001b[39;00m\n\u001b[1;32m--> 605\u001b[0m parser \u001b[38;5;241m=\u001b[39m TextFileReader(filepath_or_buffer, \u001b[38;5;241m*\u001b[39m\u001b[38;5;241m*\u001b[39mkwds)\n\u001b[0;32m    607\u001b[0m \u001b[38;5;28;01mif\u001b[39;00m chunksize \u001b[38;5;129;01mor\u001b[39;00m iterator:\n\u001b[0;32m    608\u001b[0m     \u001b[38;5;28;01mreturn\u001b[39;00m parser\n",
      "File \u001b[1;32m~\\anaconda3\\Lib\\site-packages\\pandas\\io\\parsers\\readers.py:1442\u001b[0m, in \u001b[0;36mTextFileReader.__init__\u001b[1;34m(self, f, engine, **kwds)\u001b[0m\n\u001b[0;32m   1439\u001b[0m     \u001b[38;5;28mself\u001b[39m\u001b[38;5;241m.\u001b[39moptions[\u001b[38;5;124m\"\u001b[39m\u001b[38;5;124mhas_index_names\u001b[39m\u001b[38;5;124m\"\u001b[39m] \u001b[38;5;241m=\u001b[39m kwds[\u001b[38;5;124m\"\u001b[39m\u001b[38;5;124mhas_index_names\u001b[39m\u001b[38;5;124m\"\u001b[39m]\n\u001b[0;32m   1441\u001b[0m \u001b[38;5;28mself\u001b[39m\u001b[38;5;241m.\u001b[39mhandles: IOHandles \u001b[38;5;241m|\u001b[39m \u001b[38;5;28;01mNone\u001b[39;00m \u001b[38;5;241m=\u001b[39m \u001b[38;5;28;01mNone\u001b[39;00m\n\u001b[1;32m-> 1442\u001b[0m \u001b[38;5;28mself\u001b[39m\u001b[38;5;241m.\u001b[39m_engine \u001b[38;5;241m=\u001b[39m \u001b[38;5;28mself\u001b[39m\u001b[38;5;241m.\u001b[39m_make_engine(f, \u001b[38;5;28mself\u001b[39m\u001b[38;5;241m.\u001b[39mengine)\n",
      "File \u001b[1;32m~\\anaconda3\\Lib\\site-packages\\pandas\\io\\parsers\\readers.py:1735\u001b[0m, in \u001b[0;36mTextFileReader._make_engine\u001b[1;34m(self, f, engine)\u001b[0m\n\u001b[0;32m   1733\u001b[0m     \u001b[38;5;28;01mif\u001b[39;00m \u001b[38;5;124m\"\u001b[39m\u001b[38;5;124mb\u001b[39m\u001b[38;5;124m\"\u001b[39m \u001b[38;5;129;01mnot\u001b[39;00m \u001b[38;5;129;01min\u001b[39;00m mode:\n\u001b[0;32m   1734\u001b[0m         mode \u001b[38;5;241m+\u001b[39m\u001b[38;5;241m=\u001b[39m \u001b[38;5;124m\"\u001b[39m\u001b[38;5;124mb\u001b[39m\u001b[38;5;124m\"\u001b[39m\n\u001b[1;32m-> 1735\u001b[0m \u001b[38;5;28mself\u001b[39m\u001b[38;5;241m.\u001b[39mhandles \u001b[38;5;241m=\u001b[39m get_handle(\n\u001b[0;32m   1736\u001b[0m     f,\n\u001b[0;32m   1737\u001b[0m     mode,\n\u001b[0;32m   1738\u001b[0m     encoding\u001b[38;5;241m=\u001b[39m\u001b[38;5;28mself\u001b[39m\u001b[38;5;241m.\u001b[39moptions\u001b[38;5;241m.\u001b[39mget(\u001b[38;5;124m\"\u001b[39m\u001b[38;5;124mencoding\u001b[39m\u001b[38;5;124m\"\u001b[39m, \u001b[38;5;28;01mNone\u001b[39;00m),\n\u001b[0;32m   1739\u001b[0m     compression\u001b[38;5;241m=\u001b[39m\u001b[38;5;28mself\u001b[39m\u001b[38;5;241m.\u001b[39moptions\u001b[38;5;241m.\u001b[39mget(\u001b[38;5;124m\"\u001b[39m\u001b[38;5;124mcompression\u001b[39m\u001b[38;5;124m\"\u001b[39m, \u001b[38;5;28;01mNone\u001b[39;00m),\n\u001b[0;32m   1740\u001b[0m     memory_map\u001b[38;5;241m=\u001b[39m\u001b[38;5;28mself\u001b[39m\u001b[38;5;241m.\u001b[39moptions\u001b[38;5;241m.\u001b[39mget(\u001b[38;5;124m\"\u001b[39m\u001b[38;5;124mmemory_map\u001b[39m\u001b[38;5;124m\"\u001b[39m, \u001b[38;5;28;01mFalse\u001b[39;00m),\n\u001b[0;32m   1741\u001b[0m     is_text\u001b[38;5;241m=\u001b[39mis_text,\n\u001b[0;32m   1742\u001b[0m     errors\u001b[38;5;241m=\u001b[39m\u001b[38;5;28mself\u001b[39m\u001b[38;5;241m.\u001b[39moptions\u001b[38;5;241m.\u001b[39mget(\u001b[38;5;124m\"\u001b[39m\u001b[38;5;124mencoding_errors\u001b[39m\u001b[38;5;124m\"\u001b[39m, \u001b[38;5;124m\"\u001b[39m\u001b[38;5;124mstrict\u001b[39m\u001b[38;5;124m\"\u001b[39m),\n\u001b[0;32m   1743\u001b[0m     storage_options\u001b[38;5;241m=\u001b[39m\u001b[38;5;28mself\u001b[39m\u001b[38;5;241m.\u001b[39moptions\u001b[38;5;241m.\u001b[39mget(\u001b[38;5;124m\"\u001b[39m\u001b[38;5;124mstorage_options\u001b[39m\u001b[38;5;124m\"\u001b[39m, \u001b[38;5;28;01mNone\u001b[39;00m),\n\u001b[0;32m   1744\u001b[0m )\n\u001b[0;32m   1745\u001b[0m \u001b[38;5;28;01massert\u001b[39;00m \u001b[38;5;28mself\u001b[39m\u001b[38;5;241m.\u001b[39mhandles \u001b[38;5;129;01mis\u001b[39;00m \u001b[38;5;129;01mnot\u001b[39;00m \u001b[38;5;28;01mNone\u001b[39;00m\n\u001b[0;32m   1746\u001b[0m f \u001b[38;5;241m=\u001b[39m \u001b[38;5;28mself\u001b[39m\u001b[38;5;241m.\u001b[39mhandles\u001b[38;5;241m.\u001b[39mhandle\n",
      "File \u001b[1;32m~\\anaconda3\\Lib\\site-packages\\pandas\\io\\common.py:856\u001b[0m, in \u001b[0;36mget_handle\u001b[1;34m(path_or_buf, mode, encoding, compression, memory_map, is_text, errors, storage_options)\u001b[0m\n\u001b[0;32m    851\u001b[0m \u001b[38;5;28;01melif\u001b[39;00m \u001b[38;5;28misinstance\u001b[39m(handle, \u001b[38;5;28mstr\u001b[39m):\n\u001b[0;32m    852\u001b[0m     \u001b[38;5;66;03m# Check whether the filename is to be opened in binary mode.\u001b[39;00m\n\u001b[0;32m    853\u001b[0m     \u001b[38;5;66;03m# Binary mode does not support 'encoding' and 'newline'.\u001b[39;00m\n\u001b[0;32m    854\u001b[0m     \u001b[38;5;28;01mif\u001b[39;00m ioargs\u001b[38;5;241m.\u001b[39mencoding \u001b[38;5;129;01mand\u001b[39;00m \u001b[38;5;124m\"\u001b[39m\u001b[38;5;124mb\u001b[39m\u001b[38;5;124m\"\u001b[39m \u001b[38;5;129;01mnot\u001b[39;00m \u001b[38;5;129;01min\u001b[39;00m ioargs\u001b[38;5;241m.\u001b[39mmode:\n\u001b[0;32m    855\u001b[0m         \u001b[38;5;66;03m# Encoding\u001b[39;00m\n\u001b[1;32m--> 856\u001b[0m         handle \u001b[38;5;241m=\u001b[39m \u001b[38;5;28mopen\u001b[39m(\n\u001b[0;32m    857\u001b[0m             handle,\n\u001b[0;32m    858\u001b[0m             ioargs\u001b[38;5;241m.\u001b[39mmode,\n\u001b[0;32m    859\u001b[0m             encoding\u001b[38;5;241m=\u001b[39mioargs\u001b[38;5;241m.\u001b[39mencoding,\n\u001b[0;32m    860\u001b[0m             errors\u001b[38;5;241m=\u001b[39merrors,\n\u001b[0;32m    861\u001b[0m             newline\u001b[38;5;241m=\u001b[39m\u001b[38;5;124m\"\u001b[39m\u001b[38;5;124m\"\u001b[39m,\n\u001b[0;32m    862\u001b[0m         )\n\u001b[0;32m    863\u001b[0m     \u001b[38;5;28;01melse\u001b[39;00m:\n\u001b[0;32m    864\u001b[0m         \u001b[38;5;66;03m# Binary mode\u001b[39;00m\n\u001b[0;32m    865\u001b[0m         handle \u001b[38;5;241m=\u001b[39m \u001b[38;5;28mopen\u001b[39m(handle, ioargs\u001b[38;5;241m.\u001b[39mmode)\n",
      "\u001b[1;31mFileNotFoundError\u001b[0m: [Errno 2] No such file or directory: 'series2024.csv'"
     ]
    }
   ],
   "source": [
    "df_24=pd.read_csv('data/series2024.csv')"
   ]
  },
  {
   "cell_type": "code",
   "execution_count": null,
   "id": "044661b9",
   "metadata": {},
   "outputs": [],
   "source": [
    "# Defining series that existed in 2004\n",
    "cred_2004=pd.read_csv('data/credenciales2004.csv')\n",
    "series_2004=cred_2004[~(cred_2004['Circuito2004'].isna())  ].groupby('Serie').first().reset_index('Serie')['Serie'].to_list()\n",
    "series_con_nuevos=pd.read_csv('series_con_nuevos.csv')"
   ]
  },
  {
   "cell_type": "code",
   "execution_count": null,
   "id": "b7ced93b",
   "metadata": {},
   "outputs": [],
   "source": [
    "# defining variables for each electoral precint\n",
    "circuitos=pd.merge(df_24, df_19_max, left_on='SERIE',right_on='Serie', how='inner') #inner porque solo quiero series que esten antes y dps\n",
    "circuitos['hay_nuevo']=circuitos['DESDE']>circuitos['max']\n",
    "circuitos=pd.merge(circuitos,circuitos[['SERIE','hay_nuevo']].groupby('SERIE').max().rename(columns={'hay_nuevo':'hay_nuevo_serie'}).reset_index(), on='SERIE')\n",
    "circuitos=pd.merge(circuitos, series_con_nuevos, left_on='SERIE',right_on='SERIE', how='left')\n",
    "circuitos['mas_de_58']=circuitos['HASTA']<circuitos['1984']\n",
    "circuitos['mas_de_43']=circuitos['HASTA']<circuitos['1999']\n",
    "ultimos=circuitos.groupby('SERIE').last()[['CIRCUITO', 'Serie', 'hay_nuevo_serie']]\n",
    "ultimos=ultimos[(ultimos['hay_nuevo_serie']==True) &( ultimos['Serie'].isin(series_2004) )]\n",
    "primeros=circuitos.groupby('SERIE').first()[['LOCALIDAD','CIRCUITO', 'Serie', 'hay_nuevo_serie']]\n",
    "primeros=primeros[(primeros['hay_nuevo_serie']==True) & ( primeros['Serie'].isin(series_2004))]\n",
    "mas_de_58=circuitos[(circuitos['mas_de_58']==True)]\n",
    "mas_de_43=circuitos[(circuitos['mas_de_43']==True)]\n",
    "nuevos=circuitos[(circuitos['hay_nuevo']==True) & (circuitos['Serie'].isin(series_2004))]\n",
    "nuevos_58=pd.merge(nuevos, circuitos[(circuitos['mas_de_58']==True)].groupby('SERIE').max().reset_index()[['SERIE']], on='SERIE', how='right')\n",
    "nuevos_43=pd.merge(nuevos, circuitos[(circuitos['mas_de_43']==True)].groupby('SERIE').max().reset_index()[['SERIE']], on='SERIE', how='right')"
   ]
  },
  {
   "cell_type": "code",
   "execution_count": null,
   "id": "0946c82f",
   "metadata": {},
   "outputs": [],
   "source": [
    "df5=pd.read_excel('Primario Balotaje Circuito.xls', header=8)\n",
    "base=pd.merge(df5, mas_de_58, on=['SERIE','CIRCUITO'])[['DEPTO','Yamandú Orsi - Carolina Cosse', 'Álvaro Delgado - Valeria Ripoll']]\n",
    "base_deptos=base.groupby('DEPTO').sum()\n",
    "base_deptos['prop']=base_deptos['Yamandú Orsi - Carolina Cosse']/(base_deptos['Yamandú Orsi - Carolina Cosse']+base_deptos['Álvaro Delgado - Valeria Ripoll'])\n",
    "deptos_mas_de_58=base_deptos.sort_values(by='prop')"
   ]
  },
  {
   "cell_type": "code",
   "execution_count": null,
   "id": "78b2502d",
   "metadata": {},
   "outputs": [],
   "source": [
    "base=pd.merge(df5, mas_de_43, on=['SERIE','CIRCUITO'])[['DEPTO','Yamandú Orsi - Carolina Cosse', 'Álvaro Delgado - Valeria Ripoll']]\n",
    "base_deptos=base.groupby('DEPTO').sum()\n",
    "base_deptos['prop']=base_deptos['Yamandú Orsi - Carolina Cosse']/(base_deptos['Yamandú Orsi - Carolina Cosse']+base_deptos['Álvaro Delgado - Valeria Ripoll'])\n",
    "deptos_mas_de_43=base_deptos.sort_values(by='prop')"
   ]
  },
  {
   "cell_type": "code",
   "execution_count": null,
   "id": "a616c03c",
   "metadata": {
    "scrolled": true
   },
   "outputs": [],
   "source": [
    "base=pd.merge(df5, nuevos, on=['SERIE','CIRCUITO'])[['DEPTO','Yamandú Orsi - Carolina Cosse', 'Álvaro Delgado - Valeria Ripoll']]\n",
    "base_deptos=base.groupby('DEPTO').sum()\n",
    "base_deptos['prop']=base_deptos['Yamandú Orsi - Carolina Cosse']/(base_deptos['Yamandú Orsi - Carolina Cosse']+base_deptos['Álvaro Delgado - Valeria Ripoll'])\n",
    "deptos_nuevos=base_deptos.sort_values(by='prop')"
   ]
  },
  {
   "cell_type": "code",
   "execution_count": null,
   "id": "76ea945b",
   "metadata": {},
   "outputs": [],
   "source": [
    "base=pd.merge(df5, primeros, on=['SERIE','CIRCUITO'])[['DEPTO','Yamandú Orsi - Carolina Cosse', 'Álvaro Delgado - Valeria Ripoll']]\n",
    "base_deptos=base.groupby('DEPTO').sum()\n",
    "base_deptos['prop']=base_deptos['Yamandú Orsi - Carolina Cosse']/(base_deptos['Yamandú Orsi - Carolina Cosse']+base_deptos['Álvaro Delgado - Valeria Ripoll'])\n",
    "deptos_viejos=base_deptos.sort_values(by='prop')"
   ]
  },
  {
   "cell_type": "code",
   "execution_count": null,
   "id": "198d0e69",
   "metadata": {
    "scrolled": true
   },
   "outputs": [],
   "source": [
    "# Complete municipio mapping \n",
    "municipio_mapping = {\n",
    "\n",
    "    # General Municipalities\n",
    "    \"Municipio A\": [\"BSA\", \"BTA\", \"BTB\", \"BTC\", \"BTD\", \"BUA\", \"BUB\", \"BVA\", \"BVB\", \"BVC\", \"BXA\", \"BXB\", \"BXC\", \"BSB\"],\n",
    "    \"Municipio B\": [\n",
    "        \"AAA\", \"ACA\", \"AIA\", \"AKA\", \"AMA\", \"APA\", \"ARA\", \"ASA\", \"ATA\", \"AVA\", \"BEA\", \"BFA\", \"BJB\", \"BKB\", \n",
    "        \"AAB\", \"ABA\", \"ABB\", \"ACB\", \"ADA\", \"ADB\", \"AEA\", \"AEB\", \"AFA\", \"AFB\", \"AGA\", \"AGB\", \"AHA\", \"AHB\", \n",
    "        \"AIB\", \"AJA\", \"AJB\", \"AKB\", \"ALA\", \"ALB\", \"AMB\", \"ANA\", \"ANB\", \"AOA\", \"AOB\", \"APB\", \"AQA\", \"AQB\", \n",
    "        \"ARB\", \"ASB\", \"AVB\", \"BEB\", \"BFB\"\n",
    "    ],\n",
    "    \"Municipio C\": [\n",
    "        \"BGA\", \"BJA\", \"BKA\", \"BLA\", \"BLB\", \"BMA\", \"BMB\", \"BNA\", \"BPA\", \"BPB\", \"BQA\", \"BQB\",\n",
    "        \"BGB\", \"BHA\", \"BIA\", \"BIB\", \"BHB\"\n",
    "    ],\n",
    "    \"Municipio CH\": [\"ATB\", \"AUA\", \"AUB\", \"AXA\", \"AXB\", \"AZA\", \"AZB\", \"BAA\", \"BAB\"],\n",
    "    \"Municipio D\": [\"BBA\", \"BBB\", \"BBC\", \"BBD\", \"BDD\", \"BNB\", \"BNC\", \"BOA\", \"BOB\"],\n",
    "    \"Municipio E\": [\"BCA\", \"BCB\", \"BCC\", \"BCD\", \"BCE\", \"BCF\", \"BCG\"],\n",
    "    \"Municipio F\": [\"BDA\", \"BDB\", \"BDC\", \"BDE\", \"BDF\"],\n",
    "    \"Municipio G\": [\"BRA\", \"BRB\", \"BRC\", \"BZA\", \"BZB\", \"BZC\"],\n",
    "    # Canelones\n",
    "    \"Ciudad de la Costa\": [\"CMF\", \"CMI\", \"CMJ\"],\n",
    "    \"Las Piedras\": [\"CDA\", \"CDD\", \"CDE\"],\n",
    "    \"Pando\": [\"CMA\"],\n",
    "    \"La Paz\": [\"CEA\"],\n",
    "    \"Canelones\": [\"CAA\", \"CNA\"],\n",
    "    \"Santa Lucía\": [\"CBA\", \"CBB\", \"CBC\"],\n",
    "    \"Progreso\": [\"CDB\"],\n",
    "    \"Paso Carrasco\": [\"CMD\"],\n",
    "    \"Barros Blancos\": [\"CME\"],\n",
    "    \"Colonia Nicolich\": [\"CMK\"],\n",
    "    \"San Ramón\": [\"CIA\"],\n",
    "    \"Salinas\": [\"CMG\"],\n",
    "    \"Suárez\": [\"CQA\", \"CQC\"],\n",
    "    \"Parque del Plata\": [\"CMH\"],\n",
    "    \"Sauce\": [\"CFA\"],\n",
    "    \"Tala\": [\"CJA\", \"CJB\"],\n",
    "    \"Atlántida\": [\"CMC\"],\n",
    "    \"Toledo\": [\"CQB\"],\n",
    "    \"Empalme Olmos\": [\"CMB\"],\n",
    "    \"San Jacinto\": [\"CHA\"],\n",
    "    \"Santa Rosa\": [\"CGA\"],\n",
    "    \"La Floresta\": [\"CLB\", \"CLC\"],\n",
    "    \"Migues\": [\"CKA\"],\n",
    "    \"Los Cerrillos\": [\"CCA\", \"CEB\"],\n",
    "    \"San Bautista\": [\"CPA\"],\n",
    "    \"Soca\": [\"CLA\", \"CLD\", \"CLE\"],\n",
    "    \"Montes\": [\"CKB\"],\n",
    "    \"San Antonio\": [\"COA\"],\n",
    "    \"Aguas Corrientes\": [\"CCB\"],\n",
    "    \"18 de Mayo\": [\"CDC\"],\n",
    "    # Maldonado\n",
    "    \"Maldonado\": [\"DAA\", \"DAC\", \"DAE\", \"DAF\", \"DAG\", \"DAH\", \"DAI\", \"DAJ\", \"DAD\"],\n",
    "    \"San Carlos\": [\"DBA\", \"DBB\", \"DBC\", \"DDA\", \"DDB\", \"DDC\", \"DED\", \"DEE\", \"DEF\", \"DBD\", \"DBE\", \"DBF\", \"DBG\", \"DEH\"],\n",
    "    \"Piriápolis\": [\"DCB\"],\n",
    "    \"Punta del Este\": [\"DAB\", \"DAK\"],\n",
    "    \"Pan de Azúcar\": [\"DCA\", \"DCC\"],\n",
    "    \"Aiguá\": [\"DDD\", \"DFA\", \"DFB\"],\n",
    "    \"Solís Grande\": [\"DCD\", \"DCE\", \"DCF\"],\n",
    "    \"Garzón\": [\"DEA\", \"DEC\", \"DEB\", \"DEG\"],\n",
    "    # Rocha\n",
    "    \"Chuy\": [\"EFB\"],\n",
    "    \"Castillos\": [\"EDC\", \"ECB\"],\n",
    "    \"Lascano\": [\"EEA\"],\n",
    "    \"La Paloma\": [\"ECG\"],\n",
    "    # Treinta y Tres\n",
    "    \"Vergara\": [\"FBA\"],\n",
    "    \"Santa Clara de Olimar\": [\"FDA\"],\n",
    "    \"Cerro Chato\": [\"FDB\"],\n",
    "    \"General Enrique Martínez\": [\"FBC\"],\n",
    "    \"Villa Sara\": [\"FEA\"],\n",
    "    \"Rincón\": [\"FBE\"],\n",
    "    # Cerro Largo\n",
    "    \"Río Branco\": [\"GDA\", \"GDB\", \"GDC\", \"GDD\", \"GDH\"],\n",
    "    \"Fraile Muerto\": [\"GFB\"],\n",
    "    \"Isidoro Noblía\": [\"GEC\", \"GED\", \"GEF\"],\n",
    "    \"Aceguá\": [\"GEE\"],\n",
    "    \"Tupambaé\": [\"GGA\", \"GGC\"],\n",
    "    \"Plácido Rosas\": [\"GCA\"],\n",
    "    \"Arévalo\": [\"GGD\", \"GGE\", \"GGF\", \"GGG\", \"GGH\"],\n",
    "    \"Arbolito\": [\"GCC\", \"GCE\"],\n",
    "    \"Ramón Trigo\": [\"GFD\"],\n",
    "    \"Bañado de Medina\": [\"GFE\"],\n",
    "    \"Las Cañas\": [\"GCF\", \"GDE\", \"GDG\"],\n",
    "    \"Cerro de las Cuentas\": [\"GCD\", \"GFC\"],\n",
    "    \"Centurión\": [\"GDF\", \"GEA\"],\n",
    "    \"Tres Islas\": [\"GFA\"],\n",
    "    \"Quebracho\": [\"GGB\"],\n",
    "    # Rivera\n",
    "    \"Tranqueras\": [\"HCC\", \"HCD\", \"HCG\"],\n",
    "    \"Vichadero\": [\"HFG\"],\n",
    "    \"Minas de Corrales\": [\"HDB\"],\n",
    "    # Artigas\n",
    "    \"Bella Unión\": [\"ICD\", \"ICE\", \"ICF\"],\n",
    "    \"Tomás Gomensoro\": [\"ICC\"],\n",
    "    \"Baltasar Brum\": [\"ICA\"],\n",
    "    # Salto\n",
    "    \"Villa Constitución\": [\"JDB\", \"JDC\", \"JDD\"],\n",
    "    \"Pueblo Belén\": [\"JDE\"],\n",
    "    \"Pueblo Rincón de Valentín\": [\"JEC\"],\n",
    "    \"Colonia Lavalleja\": [\"JEA\", \"JEB\"],\n",
    "    \"Pueblo San Antonio\": [\"JCA\"],\n",
    "    \"Mataojo\": [\"JFD\", \"JFE\", \"JFF\", \"JFG\"],\n",
    "    # Paysandú\n",
    "    \"Guichón\": [\"KEA\", \"KEB\", \"KEC\", \"KED\"],\n",
    "    \"Quebracho\": [\"KFA\", \"KFC\"],\n",
    "    \"Porvenir\": [\"KCD\", \"KCE\", \"KDA\", \"KDB\", \"KDD\", \"KDE\"],\n",
    "    \"Piedras Coloradas\": [\"KGA\", \"KGB\"],\n",
    "    \"Lorenzo Geyres\": [\"KGC\", \"KFB\"],\n",
    "    \"Tambores\": [\"KHA\", \"KHB\", \"KEE\", \"KEF\"],\n",
    "    \"Chapicuy\": [\"KID\", \"KIE\"],\n",
    "    # Río Negro\n",
    "    \"Young\": [\"LBC\", \"LBD\"],\n",
    "    \"Nuevo Berlín\": [\"LAB\"],\n",
    "    \"San Javier\": [\"LBA\"],\n",
    "    # Soriano\n",
    "    \"Dolores\": [\"MCA\", \"MCB\"],\n",
    "    \"Cardona\": [\"MFA\"],\n",
    "    \"José Enrique Rodó\": [\"MEE\", \"MFC\"],\n",
    "    \"Palmitas\": [\"MGJ\"],\n",
    "    # Colonia\n",
    "    \"Carmelo\": [\"NHB\"],\n",
    "    \"Juan L. Lacaze\": [\"NLB\", \"NLC\"],\n",
    "    \"Nueva Helvecia\": [\"NEB\"],\n",
    "    \"Rosario\": [\"NCB\"],\n",
    "    \"Nueva Palmira\": [\"NIB\"],\n",
    "    \"Tarariras\": [\"NBD\"],\n",
    "    \"Ombúes de Lavalle\": [\"NGA\", \"NGB\"],\n",
    "    \"Colonia Valdense\": [\"NDB\"],\n",
    "    \"Florencio Sánchez\": [\"NFC\"],\n",
    "    \"Colonia Miguelete\": [\"NBB\", \"NBC\"],\n",
    "    \"La Paz (Colonia)\": [\"NDA\"],\n",
    "    # San José\n",
    "    \"Ciudad del Plata\": [\"OEI\", \"OGA\", \"OGB\", \"OGC\", \"OGD\", \"OGE\"],\n",
    "    \"Libertad\": [\"OEA\", \"OEB\", \"OEH\"],\n",
    "    \"Rodríguez\": [\"OCH\", \"ODA\", \"ODB\", \"ODC\", \"ODE\", \"ODF\", \"ODG\"],\n",
    " \"Ecilda Paullier\": [\"OFE\", \"OFF\", \"OFG\"],\n",
    "    # Flores\n",
    "    \"Ismael Cortinas\": [\"PBD\"],\n",
    "    # Florida\n",
    "    \"Sarandí Grande\": [\"QCA\"],\n",
    "    \"Casupá\": [\"QDC\"],\n",
    "    \"Fray Marcos\": [\"QDD\"],\n",
    "    # Durazno\n",
    "    \"Sarandí del Yí\": [\"RDC\", \"RDD\", \"RDE\"],\n",
    "    \"Villa del Carmen\": [\"RCC\", \"RCD\"],\n",
    "    # Lavalleja\n",
    "    \"José Pedro Varela\": [\"SHD\"],\n",
    "    \"Solís de Mataojo\": [\"SCC\"],\n",
    "    \"José Batlle y Ordóñez\": [\"SIE\"],\n",
    "    \"Mariscala\": [\"SGC\"],\n",
    "    # Tacuarembó\n",
    "    \"Paso de los Toros\": [\"TFD\"],\n",
    "    \"San Gregorio de Polanco\": [\"TED\"],\n",
    "    \"Ansina\": [\"TBE\"]\n",
    "}\n",
    "\n",
    "# Function to assign municipio based on SERIE\n",
    "def assign_municipio(serie):\n",
    "    for municipio, series in municipio_mapping.items():\n",
    "        if serie in series:\n",
    "            return municipio\n",
    "    return 'Unknown'\n",
    "\n",
    "df11=pd.merge(df5, primeros, on=['SERIE','CIRCUITO'])[['LOCALIDAD','Serie','Yamandú Orsi - Carolina Cosse', 'Álvaro Delgado - Valeria Ripoll']]\n",
    "df11['municipio'] = df11['Serie'].apply(assign_municipio)\n",
    "\n",
    "capitales_departamentales = [\n",
    "    \"ARTIGAS\", \"MELO\", \"COLONIA DEL SACRAMENTO\", \"DURAZNO\", \n",
    "    \"TRINIDAD\", \"FLORIDA\", \"MINAS\", \"MALDONADO\", \"PAYSANDÚ\", \n",
    "    \"FRAY BENTOS\", \"RIVERA\", \"ROCHA\", \"SALTO\", \"SAN JOSÉ DE MAYO\", \n",
    "    \"MERCEDES\", \"TACUAREMBÓ\", \"TREINTA Y TRES\"\n",
    "]\n",
    "\n",
    "def assign_capital(serie):\n",
    "    if serie in capitales_departamentales:\n",
    "        return serie\n",
    "\n",
    "df11['ciudad'] = df11['LOCALIDAD'].apply(assign_capital)\n",
    "df11.loc[df11['municipio']=='Unknown', 'municipio']=df11['ciudad']\n",
    "\n",
    "base_deptos=df11.groupby('municipio').sum()\n",
    "base_deptos['prop']=base_deptos['Yamandú Orsi - Carolina Cosse']/(base_deptos['Yamandú Orsi - Carolina Cosse']+base_deptos['Álvaro Delgado - Valeria Ripoll'])\n",
    "muni_viejos=base_deptos.sort_values(by='prop')"
   ]
  },
  {
   "cell_type": "markdown",
   "id": "ad491de3",
   "metadata": {},
   "source": [
    "# Creating datasets for the graphs"
   ]
  },
  {
   "cell_type": "code",
   "execution_count": null,
   "id": "3146f746",
   "metadata": {
    "scrolled": true
   },
   "outputs": [],
   "source": [
    "df11=pd.merge(df5, nuevos, on=['SERIE','CIRCUITO'])[['LOCALIDAD','Serie','Yamandú Orsi - Carolina Cosse', 'Álvaro Delgado - Valeria Ripoll']]\n",
    "df11['municipio'] = df11['Serie'].apply(assign_municipio)\n",
    "df11['ciudad'] = df11['LOCALIDAD'].apply(assign_capital)\n",
    "df11.loc[df11['municipio']=='Unknown', 'municipio']=df11['ciudad']\n",
    "base_deptos=df11.groupby('municipio').sum()\n",
    "base_deptos['prop']=base_deptos['Yamandú Orsi - Carolina Cosse']/(base_deptos['Yamandú Orsi - Carolina Cosse']+base_deptos['Álvaro Delgado - Valeria Ripoll'])\n",
    "muni_nuevos=base_deptos.sort_values(by='prop')"
   ]
  },
  {
   "cell_type": "code",
   "execution_count": null,
   "id": "730a1ce5",
   "metadata": {},
   "outputs": [],
   "source": [
    "df11=pd.merge(df5, mas_de_58, on=['SERIE','CIRCUITO'])[['LOCALIDAD','Serie','Yamandú Orsi - Carolina Cosse', 'Álvaro Delgado - Valeria Ripoll']]\n",
    "df11['municipio'] = df11['Serie'].apply(assign_municipio)\n",
    "df11['ciudad'] = df11['LOCALIDAD'].apply(assign_capital)\n",
    "df11.loc[df11['municipio']=='Unknown', 'municipio']=df11['ciudad']\n",
    "base_deptos=df11.groupby('municipio').sum()\n",
    "base_deptos['prop']=base_deptos['Yamandú Orsi - Carolina Cosse']/(base_deptos['Yamandú Orsi - Carolina Cosse']+base_deptos['Álvaro Delgado - Valeria Ripoll'])\n",
    "muni_mas_de_58=base_deptos.sort_values(by='prop')"
   ]
  },
  {
   "cell_type": "code",
   "execution_count": null,
   "id": "ae0a32cf",
   "metadata": {},
   "outputs": [],
   "source": [
    "df11=pd.merge(df5, mas_de_43, on=['SERIE','CIRCUITO'])[['LOCALIDAD','Serie','Yamandú Orsi - Carolina Cosse', 'Álvaro Delgado - Valeria Ripoll']]\n",
    "df11['municipio'] = df11['Serie'].apply(assign_municipio)\n",
    "df11['ciudad'] = df11['LOCALIDAD'].apply(assign_capital)\n",
    "df11.loc[df11['municipio']=='Unknown', 'municipio']=df11['ciudad']\n",
    "base_deptos=df11.groupby('municipio').sum()\n",
    "base_deptos['prop']=base_deptos['Yamandú Orsi - Carolina Cosse']/(base_deptos['Yamandú Orsi - Carolina Cosse']+base_deptos['Álvaro Delgado - Valeria Ripoll'])\n",
    "muni_mas_de_43=base_deptos.sort_values(by='prop')"
   ]
  },
  {
   "cell_type": "code",
   "execution_count": null,
   "id": "1d9f7309",
   "metadata": {},
   "outputs": [],
   "source": [
    "# Define the municipios grouped by their respective departments\n",
    "municipios_canelones = [\n",
    "    \"Ciudad de la Costa\", \"Las Piedras\", \"Pando\", \"La Paz\", \"Canelones\", \"Santa Lucía\", \"Progreso\",\n",
    "    \"Paso Carrasco\", \"Barros Blancos\", \"Colonia Nicolich\", \"San Ramón\", \"Salinas\", \"Suárez\",\n",
    "    \"Parque del Plata\", \"Sauce\", \"Tala\", \"Atlántida\", \"Toledo\", \"Empalme Olmos\", \"San Jacinto\",\n",
    "    \"Santa Rosa\", \"La Floresta\", \"Migues\", \"Los Cerrillos\", \"San Bautista\", \"Soca\", \"Montes\",\n",
    "    \"San Antonio\", \"Aguas Corrientes\", \"18 de Mayo\"\n",
    "]\n",
    "\n",
    "municipios_montevideo = [\n",
    "    \"Municipio A\", \"Municipio B\", \"Municipio C\", \"Municipio CH\", \n",
    "    \"Municipio D\", \"Municipio E\", \"Municipio F\", \"Municipio G\"\n",
    "]"
   ]
  },
  {
   "cell_type": "code",
   "execution_count": null,
   "id": "af005546",
   "metadata": {},
   "outputs": [],
   "source": [
    "munis_to_graph=pd.merge(muni_viejos, muni_nuevos, on='municipio').reset_index()\n",
    "munis_to_graph['tipo']='municipio'\n",
    "munis_to_graph.loc[munis_to_graph['municipio'].isin(municipios_canelones), 'tipo']='municipios canelones'\n",
    "munis_to_graph.loc[munis_to_graph['municipio'].isin(municipios_montevideo), 'tipo']='municipios montevideo'\n",
    "munis_to_graph.loc[munis_to_graph['municipio'].isin(capitales_departamentales), 'tipo']='Capital'\n",
    "deptos_to_graph=pd.merge(deptos_viejos, deptos_nuevos, on='DEPTO').reset_index()\n",
    "deptos_to_graph['tipo']='departamento'\n",
    "df_to_graph_1=pd.concat([munis_to_graph,deptos_to_graph])"
   ]
  },
  {
   "cell_type": "markdown",
   "id": "db2bb405",
   "metadata": {},
   "source": [
    "# New voters vs. Oldest voters of the series"
   ]
  },
  {
   "cell_type": "code",
   "execution_count": null,
   "id": "7ccd76cf",
   "metadata": {
    "scrolled": true
   },
   "outputs": [],
   "source": [
    "\n",
    "df = df_to_graph_1\n",
    "\n",
    "# Use a specific color map for the 'tipo' variable\n",
    "tipo_colors = {\"municipio\": \"blue\", \"departamento\": \"green\", \"Capital\": \"orange\", 'municipios montevideo': \"red\", 'municipios canelones': \"black\"}\n",
    "df[\"color\"] = df[\"tipo\"].map(tipo_colors)\n",
    "\n",
    "# Multiply props by 100 to convert to percentages\n",
    "df[\"prop_x\"] *= 100\n",
    "df[\"prop_y\"] *= 100\n",
    "\n",
    "# Set labels for text annotations\n",
    "df[\"label\"] = df[\"municipio\"].fillna(df[\"DEPTO\"])\n",
    "\n",
    "# Scatter plot with additional vertical and horizontal lines\n",
    "plt.figure(figsize=(12, 8))\n",
    "scatter = plt.scatter(df[\"prop_x\"], df[\"prop_y\"], c=df[\"color\"], alpha=0.7)\n",
    "\n",
    "# Add text annotations\n",
    "for i, row in df.iterrows():\n",
    "    plt.text(row[\"prop_x\"], row[\"prop_y\"], str(row[\"label\"]), fontsize=6, ha='right', va='bottom', alpha=0.6)\n",
    "\n",
    "# Draw vertical and horizontal lines at 50\n",
    "plt.axvline(x=50, color='red', linestyle='--', linewidth=1)\n",
    "plt.axhline(y=50, color='red', linestyle='--', linewidth=1)\n",
    "\n",
    "# Customize axes\n",
    "plt.xlabel(\"Voto a Orsi en circuitos de personas mayores (%)\")\n",
    "plt.ylabel(\"Voto a Orsi en circuitos de personas nuevas (%)\")\n",
    "plt.title(\"Scatter Plot of Voto a Orsi by Circuitos\")\n",
    "\n",
    "# Add a manual legend to match colors with 'tipo'\n",
    "for tipo, color in tipo_colors.items():\n",
    "    plt.scatter([], [], color=color, label=tipo)\n",
    "plt.legend(title=\"Tipo\", loc=\"best\")\n",
    "\n",
    "# Show plot\n",
    "plt.grid(alpha=0.3)\n",
    "plt.tight_layout()\n",
    "plt.savefig(\"output/1.png\", dpi=300)\n",
    "\n",
    "plt.show()\n"
   ]
  },
  {
   "cell_type": "code",
   "execution_count": null,
   "id": "f0a337c6",
   "metadata": {
    "scrolled": false
   },
   "outputs": [],
   "source": [
    "df11=pd.merge(df5, nuevos_58, on=['SERIE','CIRCUITO'])[['LOCALIDAD','Serie','Yamandú Orsi - Carolina Cosse', 'Álvaro Delgado - Valeria Ripoll']]\n",
    "df11['municipio'] = df11['Serie'].apply(assign_municipio)\n",
    "\n",
    "df11['ciudad'] = df11['LOCALIDAD'].apply(assign_capital)\n",
    "df11.loc[df11['municipio']=='Unknown', 'municipio']=df11['ciudad']\n",
    "\n",
    "base_deptos=df11.groupby('municipio').sum()\n",
    "base_deptos['prop']=base_deptos['Yamandú Orsi - Carolina Cosse']/(base_deptos['Yamandú Orsi - Carolina Cosse']+base_deptos['Álvaro Delgado - Valeria Ripoll'])\n",
    "muni_nuevos_58=base_deptos.sort_values(by='prop')\n"
   ]
  },
  {
   "cell_type": "code",
   "execution_count": null,
   "id": "e64b475c",
   "metadata": {},
   "outputs": [],
   "source": [
    "munis_to_graph=pd.merge(muni_mas_de_58, muni_nuevos_58, on='municipio').reset_index()\n",
    "munis_to_graph['tipo']='municipio'\n",
    "munis_to_graph.loc[munis_to_graph['municipio'].isin(municipios_canelones), 'tipo']='municipios canelones'\n",
    "\n",
    "\n",
    "munis_to_graph.loc[munis_to_graph['municipio'].isin(capitales_departamentales), 'tipo']='Capital'\n",
    "deptos_to_graph=pd.merge(deptos_mas_de_58, deptos_nuevos, on='DEPTO').reset_index()\n",
    "deptos_to_graph['tipo']='departamento'\n",
    "df_to_graph_2=pd.concat([munis_to_graph,deptos_to_graph])"
   ]
  },
  {
   "cell_type": "markdown",
   "id": "bd535375",
   "metadata": {},
   "source": [
    "# New voters vs. Voters older than 58 years old"
   ]
  },
  {
   "cell_type": "code",
   "execution_count": null,
   "id": "ba61b8c1",
   "metadata": {
    "scrolled": true
   },
   "outputs": [],
   "source": [
    "df = df_to_graph_2\n",
    "\n",
    "# Use a specific color map for the 'tipo' variable\n",
    "tipo_colors = {\"municipio\": \"blue\", \"departamento\": \"green\", \"Capital\": \"orange\", 'municipios montevideo': \"red\", 'municipios canelones': \"black\"}\n",
    "df[\"color\"] = df[\"tipo\"].map(tipo_colors)\n",
    "\n",
    "# Multiply props by 100 to convert to percentages\n",
    "df[\"prop_x\"] *= 100\n",
    "df[\"prop_y\"] *= 100\n",
    "\n",
    "# Set labels for text annotations\n",
    "df[\"label\"] = df[\"municipio\"].fillna(df[\"DEPTO\"])\n",
    "\n",
    "# Scatter plot with additional vertical and horizontal lines\n",
    "plt.figure(figsize=(12, 8))\n",
    "scatter = plt.scatter(df[\"prop_x\"], df[\"prop_y\"], c=df[\"color\"], alpha=0.7)\n",
    "\n",
    "# Add text annotations\n",
    "for i, row in df.iterrows():\n",
    "    plt.text(row[\"prop_x\"], row[\"prop_y\"], str(row[\"label\"]), fontsize=6, ha='right', va='bottom', alpha=0.6)\n",
    "\n",
    "# Draw vertical and horizontal lines at 50\n",
    "plt.axvline(x=50, color='red', linestyle='--', linewidth=1)\n",
    "plt.axhline(y=50, color='red', linestyle='--', linewidth=1)\n",
    "\n",
    "# Customize axes\n",
    "plt.xlabel(\"Voto a Orsi en circuitos de personas de más de 58 años (%)\")\n",
    "plt.ylabel(\"Voto a Orsi en circuitos de personas nuevas (%)\")\n",
    "plt.title(\"Scatter Plot of Voto a Orsi by Circuitos\")\n",
    "\n",
    "# Add a manual legend to match colors with 'tipo'\n",
    "for tipo, color in tipo_colors.items():\n",
    "    plt.scatter([], [], color=color, label=tipo)\n",
    "plt.legend(title=\"Tipo\", loc=\"best\")\n",
    "\n",
    "# Show plot\n",
    "plt.grid(alpha=0.3)\n",
    "plt.tight_layout()\n",
    "plt.savefig(\"output/2.png\", dpi=300)\n",
    "\n",
    "plt.show()\n"
   ]
  },
  {
   "cell_type": "code",
   "execution_count": null,
   "id": "b848e2ac",
   "metadata": {},
   "outputs": [],
   "source": [
    "df11=pd.merge(df5, nuevos_43, on=['SERIE','CIRCUITO'])[['LOCALIDAD','Serie','Yamandú Orsi - Carolina Cosse', 'Álvaro Delgado - Valeria Ripoll']]\n",
    "df11['municipio'] = df11['Serie'].apply(assign_municipio)\n",
    "\n",
    "df11['ciudad'] = df11['LOCALIDAD'].apply(assign_capital)\n",
    "df11.loc[df11['municipio']=='Unknown', 'municipio']=df11['ciudad']\n",
    "\n",
    "base_deptos=df11.groupby('municipio').sum()\n",
    "base_deptos['prop']=base_deptos['Yamandú Orsi - Carolina Cosse']/(base_deptos['Yamandú Orsi - Carolina Cosse']+base_deptos['Álvaro Delgado - Valeria Ripoll'])\n",
    "muni_nuevos_43=base_deptos.sort_values(by='prop')\n"
   ]
  },
  {
   "cell_type": "code",
   "execution_count": null,
   "id": "1d91640c",
   "metadata": {},
   "outputs": [],
   "source": [
    "munis_to_graph=pd.merge(muni_mas_de_43, muni_nuevos_43, on='municipio').reset_index()\n",
    "munis_to_graph['tipo']='municipio'\n",
    "munis_to_graph.loc[munis_to_graph['municipio'].isin(municipios_canelones), 'tipo']='municipios canelones'\n",
    "munis_to_graph.loc[munis_to_graph['municipio'].isin(municipios_montevideo), 'tipo']='municipios montevideo'\n",
    "\n",
    "\n",
    "munis_to_graph.loc[munis_to_graph['municipio'].isin(capitales_departamentales), 'tipo']='Capital'\n",
    "deptos_to_graph=pd.merge(deptos_mas_de_43, deptos_nuevos, on='DEPTO').reset_index()\n",
    "deptos_to_graph['tipo']='departamento'\n",
    "df_to_graph_3=pd.concat([munis_to_graph,deptos_to_graph])"
   ]
  },
  {
   "cell_type": "markdown",
   "id": "e1e8a812",
   "metadata": {},
   "source": [
    "# New voters vs. Voters older than 43 years old"
   ]
  },
  {
   "cell_type": "code",
   "execution_count": null,
   "id": "e563adea",
   "metadata": {
    "scrolled": true
   },
   "outputs": [],
   "source": [
    "df = df_to_graph_3\n",
    "\n",
    "# Use a specific color map for the 'tipo' variable\n",
    "tipo_colors = {\"municipio\": \"blue\", \"departamento\": \"green\", \"Capital\": \"orange\", 'municipios montevideo': \"red\", 'municipios canelones': \"black\"}\n",
    "df[\"color\"] = df[\"tipo\"].map(tipo_colors)\n",
    "\n",
    "# Multiply props by 100 to convert to percentages\n",
    "df[\"prop_x\"] *= 100\n",
    "df[\"prop_y\"] *= 100\n",
    "\n",
    "# Set labels for text annotations\n",
    "df[\"label\"] = df[\"municipio\"].fillna(df[\"DEPTO\"])\n",
    "\n",
    "# Scatter plot with additional vertical and horizontal lines\n",
    "plt.figure(figsize=(12, 8))\n",
    "scatter = plt.scatter(df[\"prop_x\"], df[\"prop_y\"], c=df[\"color\"], alpha=0.7)\n",
    "\n",
    "# Add text annotations\n",
    "for i, row in df.iterrows():\n",
    "    plt.text(row[\"prop_x\"], row[\"prop_y\"], str(row[\"label\"]), fontsize=6, ha='right', va='bottom', alpha=0.6)\n",
    "\n",
    "# Draw vertical and horizontal lines at 50\n",
    "plt.axvline(x=50, color='red', linestyle='--', linewidth=1)\n",
    "plt.axhline(y=50, color='red', linestyle='--', linewidth=1)\n",
    "\n",
    "# Customize axes\n",
    "plt.xlabel(\"Voto a Orsi en circuitos de personas de más de 43 años (%)\")\n",
    "plt.ylabel(\"Voto a Orsi en circuitos de personas nuevas (%)\")\n",
    "plt.title(\"Scatter Plot of Voto a Orsi by Circuitos\")\n",
    "\n",
    "# Add a manual legend to match colors with 'tipo'\n",
    "for tipo, color in tipo_colors.items():\n",
    "    plt.scatter([], [], color=color, label=tipo)\n",
    "plt.legend(title=\"Tipo\", loc=\"best\")\n",
    "\n",
    "# Show plot\n",
    "plt.grid(alpha=0.3)\n",
    "plt.tight_layout()\n",
    "plt.savefig(\"output/3.png\", dpi=300)\n",
    "\n",
    "plt.show()\n"
   ]
  },
  {
   "cell_type": "code",
   "execution_count": null,
   "id": "878ba2d4",
   "metadata": {},
   "outputs": [],
   "source": [
    "series=series_con_nuevos[(~(series_con_nuevos['1984'].isna())) | (series_con_nuevos['SERIE'].str.startswith('A')) | (series_con_nuevos['SERIE'].str.startswith('B'))]['SERIE'].tolist()"
   ]
  },
  {
   "cell_type": "code",
   "execution_count": null,
   "id": "bd846cfc",
   "metadata": {},
   "outputs": [],
   "source": [
    "nuevos_mod=circuitos[(circuitos['hay_nuevo']==True) & (circuitos['Serie'].isin(series))]"
   ]
  },
  {
   "cell_type": "code",
   "execution_count": null,
   "id": "fd1d5cee",
   "metadata": {},
   "outputs": [],
   "source": [
    "base=pd.merge(df5, nuevos_mod, on=['SERIE','CIRCUITO'])[['DEPTO','Yamandú Orsi - Carolina Cosse', 'Álvaro Delgado - Valeria Ripoll']]\n",
    "base_deptos=base.groupby('DEPTO').sum()\n",
    "base_deptos['prop']=base_deptos['Yamandú Orsi - Carolina Cosse']/(base_deptos['Yamandú Orsi - Carolina Cosse']+base_deptos['Álvaro Delgado - Valeria Ripoll'])\n",
    "deptos_nuevos_mod=base_deptos.sort_values(by='prop')"
   ]
  },
  {
   "cell_type": "code",
   "execution_count": null,
   "id": "a3ea3182",
   "metadata": {},
   "outputs": [],
   "source": [
    "primeros_mod=circuitos.groupby('SERIE').first()[['LOCALIDAD','CIRCUITO', 'Serie', 'hay_nuevo_serie']]\n",
    "primeros_mod=primeros_mod[(primeros_mod['hay_nuevo_serie']==True) & ( primeros_mod['Serie'].isin(series))]"
   ]
  },
  {
   "cell_type": "code",
   "execution_count": null,
   "id": "0126bc6c",
   "metadata": {},
   "outputs": [],
   "source": [
    "base=pd.merge(df5, primeros_mod, on=['SERIE','CIRCUITO'])[['DEPTO','Yamandú Orsi - Carolina Cosse', 'Álvaro Delgado - Valeria Ripoll']]\n",
    "base_deptos=base.groupby('DEPTO').sum()\n",
    "base_deptos['prop']=base_deptos['Yamandú Orsi - Carolina Cosse']/(base_deptos['Yamandú Orsi - Carolina Cosse']+base_deptos['Álvaro Delgado - Valeria Ripoll'])\n",
    "deptos_viejos_mod=base_deptos.sort_values(by='prop')"
   ]
  },
  {
   "cell_type": "code",
   "execution_count": null,
   "id": "1e629737",
   "metadata": {},
   "outputs": [],
   "source": [
    "df11=pd.merge(df5, nuevos_mod, on=['SERIE','CIRCUITO'])[['LOCALIDAD','Serie','Yamandú Orsi - Carolina Cosse', 'Álvaro Delgado - Valeria Ripoll']]\n",
    "df11['municipio'] = df11['Serie'].apply(assign_municipio)\n",
    "\n",
    "df11['ciudad'] = df11['LOCALIDAD'].apply(assign_capital)\n",
    "df11.loc[df11['municipio']=='Unknown', 'municipio']=df11['ciudad']\n",
    "\n",
    "\n",
    "base_deptos=df11.groupby('municipio').sum()\n",
    "base_deptos['prop']=base_deptos['Yamandú Orsi - Carolina Cosse']/(base_deptos['Yamandú Orsi - Carolina Cosse']+base_deptos['Álvaro Delgado - Valeria Ripoll'])\n",
    "muni_nuevos_mod=base_deptos.sort_values(by='prop')"
   ]
  },
  {
   "cell_type": "code",
   "execution_count": null,
   "id": "421c94ee",
   "metadata": {},
   "outputs": [],
   "source": [
    "df11=pd.merge(df5, primeros_mod, on=['SERIE','CIRCUITO'])[['LOCALIDAD','Serie','Yamandú Orsi - Carolina Cosse', 'Álvaro Delgado - Valeria Ripoll']]\n",
    "df11['municipio'] = df11['Serie'].apply(assign_municipio)\n",
    "\n",
    "df11['ciudad'] = df11['LOCALIDAD'].apply(assign_capital)\n",
    "df11.loc[df11['municipio']=='Unknown', 'municipio']=df11['ciudad']\n",
    "\n",
    "\n",
    "base_deptos=df11.groupby('municipio').sum()\n",
    "base_deptos['prop']=base_deptos['Yamandú Orsi - Carolina Cosse']/(base_deptos['Yamandú Orsi - Carolina Cosse']+base_deptos['Álvaro Delgado - Valeria Ripoll'])\n",
    "muni_primeros_mod=base_deptos.sort_values(by='prop')\n"
   ]
  },
  {
   "cell_type": "code",
   "execution_count": null,
   "id": "29bebc52",
   "metadata": {},
   "outputs": [],
   "source": [
    "munis_to_graph=pd.merge(muni_primeros_mod, muni_nuevos_mod, on='municipio').reset_index()\n",
    "munis_to_graph['tipo']='municipio'\n",
    "munis_to_graph.loc[munis_to_graph['municipio'].isin(municipios_canelones), 'tipo']='municipios canelones'\n",
    "munis_to_graph.loc[munis_to_graph['municipio'].isin(municipios_montevideo), 'tipo']='municipios montevideo'\n",
    "\n",
    "munis_to_graph.loc[munis_to_graph['municipio'].isin(capitales_departamentales), 'tipo']='Capital'\n",
    "deptos_to_graph=pd.merge(deptos_viejos_mod, deptos_nuevos_mod, on='DEPTO').reset_index()\n",
    "deptos_to_graph['tipo']='departamento'\n",
    "df_to_graph_4=pd.concat([munis_to_graph,deptos_to_graph])"
   ]
  },
  {
   "cell_type": "markdown",
   "id": "c787cc25",
   "metadata": {},
   "source": [
    "# New voters vs. Oldest voters of the series \n",
    "\n",
    "### Only keeping those series that existed in 1984"
   ]
  },
  {
   "cell_type": "code",
   "execution_count": null,
   "id": "b5f19f1a",
   "metadata": {
    "scrolled": true
   },
   "outputs": [],
   "source": [
    "df = df_to_graph_4\n",
    "\n",
    "# Use a specific color map for the 'tipo' variable\n",
    "tipo_colors = {\"municipio\": \"blue\", \"departamento\": \"green\", \"Capital\": \"orange\", 'municipios montevideo': \"red\", 'municipios canelones': \"black\"}\n",
    "df[\"color\"] = df[\"tipo\"].map(tipo_colors)\n",
    "\n",
    "# Multiply props by 100 to convert to percentages\n",
    "df[\"prop_x\"] *= 100\n",
    "df[\"prop_y\"] *= 100\n",
    "\n",
    "# Set labels for text annotations\n",
    "df[\"label\"] = df[\"municipio\"].fillna(df[\"DEPTO\"])\n",
    "\n",
    "# Scatter plot with additional vertical and horizontal lines\n",
    "plt.figure(figsize=(12, 8))\n",
    "scatter = plt.scatter(df[\"prop_x\"], df[\"prop_y\"], c=df[\"color\"], alpha=0.7)\n",
    "\n",
    "# Add text annotations\n",
    "for i, row in df.iterrows():\n",
    "    plt.text(row[\"prop_x\"], row[\"prop_y\"], str(row[\"label\"]), fontsize=6, ha='right', va='bottom', alpha=0.6)\n",
    "\n",
    "# Draw vertical and horizontal lines at 50\n",
    "plt.axvline(x=50, color='red', linestyle='--', linewidth=1)\n",
    "plt.axhline(y=50, color='red', linestyle='--', linewidth=1)\n",
    "\n",
    "# Customize axes\n",
    "plt.xlabel(\"Voto a Orsi en primer circuito de serie (%)\")\n",
    "plt.ylabel(\"Voto a Orsi en circuitos de personas nuevas (%)\")\n",
    "plt.title(\"Scatter Plot of Voto a Orsi by Circuitos\")\n",
    "\n",
    "# Add a manual legend to match colors with 'tipo'\n",
    "for tipo, color in tipo_colors.items():\n",
    "    plt.scatter([], [], color=color, label=tipo)\n",
    "plt.legend(title=\"Tipo\", loc=\"best\")\n",
    "\n",
    "# Show plot\n",
    "plt.grid(alpha=0.3)\n",
    "plt.tight_layout()\n",
    "plt.savefig(\"output/4.png\", dpi=300)\n",
    "\n",
    "plt.show()\n"
   ]
  }
 ],
 "metadata": {
  "kernelspec": {
   "display_name": "Python 3 (ipykernel)",
   "language": "python",
   "name": "python3"
  },
  "language_info": {
   "codemirror_mode": {
    "name": "ipython",
    "version": 3
   },
   "file_extension": ".py",
   "mimetype": "text/x-python",
   "name": "python",
   "nbconvert_exporter": "python",
   "pygments_lexer": "ipython3",
   "version": "3.11.3"
  }
 },
 "nbformat": 4,
 "nbformat_minor": 5
}
